{
 "cells": [
  {
   "cell_type": "code",
   "execution_count": 1,
   "metadata": {},
   "outputs": [],
   "source": [
    "import os\n",
    "from shutil import copyfile"
   ]
  },
  {
   "cell_type": "markdown",
   "metadata": {},
   "source": [
    "# Download the dataset to the folder\n",
    "- you can download the **[dataset](https://www.kaggle.com/datasets/yaswanthgali/english-fontnumber-recognition)** and unzip to the **original_dataset** folder\n",
    "- After decompression, you will get 62 folders (0-9, A-Z, a-z), and each folder contains 1016 128*128 grayscale images with different font styles."
   ]
  },
  {
   "cell_type": "code",
   "execution_count": 2,
   "metadata": {},
   "outputs": [],
   "source": [
    "path = './original_dataset/archive/Font/Font/'"
   ]
  },
  {
   "cell_type": "code",
   "execution_count": 3,
   "metadata": {},
   "outputs": [],
   "source": [
    "sample_list = os.listdir(path)"
   ]
  },
  {
   "cell_type": "markdown",
   "metadata": {},
   "source": [
    "# Resample the dataset by front style\n",
    "- Now we will put the pictures with the same font style in the same folder according to the font style, and merge them under the **dataset** folder."
   ]
  },
  {
   "cell_type": "code",
   "execution_count": null,
   "metadata": {},
   "outputs": [],
   "source": [
    "for i, s_path in enumerate(sample_list):\n",
    "    num_path = os.path.join(path,s_path)\n",
    "    num_list = os.listdir(num_path)\n",
    "    \n",
    "    for j, p_path in enumerate(num_list):\n",
    "        make_path = './dataset/' + p_path[7:-4]\n",
    "        if i == 0:\n",
    "            os.makedirs(make_path)\n",
    "        pig_path = os.path.join(num_path,p_path)\n",
    "        copyfile(pig_path,os.path.join(make_path,p_path))"
   ]
  },
  {
   "cell_type": "code",
   "execution_count": null,
   "metadata": {},
   "outputs": [],
   "source": []
  },
  {
   "cell_type": "code",
   "execution_count": null,
   "metadata": {},
   "outputs": [],
   "source": []
  },
  {
   "cell_type": "code",
   "execution_count": null,
   "metadata": {},
   "outputs": [],
   "source": []
  },
  {
   "cell_type": "code",
   "execution_count": null,
   "metadata": {},
   "outputs": [],
   "source": []
  }
 ],
 "metadata": {
  "kernelspec": {
   "display_name": "Python 3 (ipykernel)",
   "language": "python",
   "name": "python3"
  },
  "language_info": {
   "codemirror_mode": {
    "name": "ipython",
    "version": 3
   },
   "file_extension": ".py",
   "mimetype": "text/x-python",
   "name": "python",
   "nbconvert_exporter": "python",
   "pygments_lexer": "ipython3",
   "version": "3.8.10"
  }
 },
 "nbformat": 4,
 "nbformat_minor": 4
}
